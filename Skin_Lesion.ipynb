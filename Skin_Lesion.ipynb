{
  "nbformat": 4,
  "nbformat_minor": 0,
  "metadata": {
    "colab": {
      "provenance": []
    },
    "kernelspec": {
      "name": "python3",
      "display_name": "Python 3"
    },
    "language_info": {
      "name": "python"
    }
  },
  "cells": [
    {
      "cell_type": "markdown",
      "source": [
        "Data Prep"
      ],
      "metadata": {
        "id": "3yQbpY2-ekBW"
      }
    },
    {
      "cell_type": "code",
      "execution_count": null,
      "metadata": {
        "id": "mDU6mZn7d6hQ"
      },
      "outputs": [],
      "source": [
        "import pandas as pd\n",
        "import numpy as np\n",
        "import os\n",
        "from sklearn.model_selection import train_test_split\n",
        "from tensorflow.keras.preprocessing.image import ImageDataGenerator\n",
        "from tensorflow.keras.utils import to_categorical\n",
        "\n",
        "# Load metadata\n",
        "metadata = pd.read_csv('HAM10000_metadata.csv')\n",
        "\n",
        "# Merge images and metadata\n",
        "image_path = 'path_to_images/'\n",
        "metadata['image_path'] = metadata['image_id'].map(lambda x: os.path.join(image_path, f'{x}.jpg'))\n",
        "\n",
        "# Encode labels\n",
        "label_map = {label: idx for idx, label in enumerate(metadata['dx'].unique())}\n",
        "metadata['label'] = metadata['dx'].map(label_map)\n",
        "metadata['label'] = to_categorical(metadata['label'])\n",
        "\n",
        "# Split data\n",
        "train_df, val_df = train_test_split(metadata, test_size=0.2, stratify=metadata['dx'], random_state=42)\n",
        "\n",
        "# Data generators\n",
        "train_datagen = ImageDataGenerator(rescale=1./255, rotation_range=20, zoom_range=0.2, horizontal_flip=True)\n",
        "val_datagen = ImageDataGenerator(rescale=1./255)\n",
        "\n",
        "train_generator = train_datagen.flow_from_dataframe(train_df, x_col='image_path', y_col='label', target_size=(128, 128), class_mode='categorical')\n",
        "val_generator = val_datagen.flow_from_dataframe(val_df, x_col='image_path', y_col='label', target_size=(128, 128), class_mode='categorical')\n"
      ]
    },
    {
      "cell_type": "markdown",
      "source": [
        "Building CNN Model"
      ],
      "metadata": {
        "id": "Py-9lTJleou_"
      }
    },
    {
      "cell_type": "code",
      "source": [
        "import tensorflow as tf\n",
        "from tensorflow.keras.models import Sequential\n",
        "from tensorflow.keras.layers import Conv2D, MaxPooling2D, Flatten, Dense, Dropout, BatchNormalization\n",
        "from tensorflow.keras.callbacks import EarlyStopping, ReduceLROnPlateau\n",
        "\n",
        "model = Sequential([\n",
        "    Conv2D(32, (3, 3), activation='relu', input_shape=(128, 128, 3)),\n",
        "    BatchNormalization(),\n",
        "    MaxPooling2D((2, 2)),\n",
        "\n",
        "    Conv2D(64, (3, 3), activation='relu'),\n",
        "    BatchNormalization(),\n",
        "    MaxPooling2D((2, 2)),\n",
        "\n",
        "    Conv2D(128, (3, 3), activation='relu'),\n",
        "    BatchNormalization(),\n",
        "    MaxPooling2D((2, 2)),\n",
        "\n",
        "    Conv2D(256, (3, 3), activation='relu'),\n",
        "    BatchNormalization(),\n",
        "    MaxPooling2D((2, 2)),\n",
        "\n",
        "    Flatten(),\n",
        "    Dense(512, activation='relu'),\n",
        "    Dropout(0.5),\n",
        "    Dense(len(label_map), activation='softmax')\n",
        "])\n",
        "\n",
        "model.compile(optimizer='adam', loss='categorical_crossentropy', metrics=['accuracy'])\n",
        "\n",
        "early_stopping = EarlyStopping(monitor='val_loss', patience=10, restore_best_weights=True)\n",
        "reduce_lr = ReduceLROnPlateau(monitor='val_loss', factor=0.2, patience=5, min_lr=0.0001)\n",
        "\n",
        "model.fit(train_generator, epochs=50, validation_data=val_generator, callbacks=[early_stopping, reduce_lr])\n",
        "model.save('skin_lesion_model.h5')"
      ],
      "metadata": {
        "id": "Ztk_dAMnefK-"
      },
      "execution_count": null,
      "outputs": []
    },
    {
      "cell_type": "markdown",
      "source": [
        "Accuracy Metrics"
      ],
      "metadata": {
        "id": "F7wFHmlWhMRt"
      }
    },
    {
      "cell_type": "code",
      "source": [
        "from sklearn.metrics import classification_report, confusion_matrix\n",
        "import numpy as np\n",
        "\n",
        "# Generate predictions\n",
        "val_generator.reset()\n",
        "predictions = model.predict(val_generator, steps=val_generator.n // val_generator.batch_size + 1)\n",
        "predicted_classes = np.argmax(predictions, axis=1)\n",
        "true_classes = val_generator.classes\n",
        "class_labels = list(val_generator.class_indices.keys())\n",
        "\n",
        "# Classification report\n",
        "report = classification_report(true_classes, predicted_classes, target_names=class_labels)\n",
        "print(report)\n",
        "\n",
        "# Confusion matrix\n",
        "conf_matrix = confusion_matrix(true_classes, predicted_classes)\n",
        "print(conf_matrix)\n",
        "\n",
        "# Evaluate model on validation data\n",
        "val_loss, val_acc = model.evaluate(val_generator)\n",
        "print(f'Validation Loss: {val_loss}')\n",
        "print(f'Validation Accuracy: {val_acc}')\n"
      ],
      "metadata": {
        "id": "9vMCdBgXhOWU"
      },
      "execution_count": null,
      "outputs": []
    }
  ]
}